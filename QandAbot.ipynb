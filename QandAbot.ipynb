{
 "cells": [
  {
   "cell_type": "code",
   "execution_count": 2,
   "id": "2e1fc514-4ce4-448f-84aa-cf3d582b5570",
   "metadata": {},
   "outputs": [
    {
     "name": "stdout",
     "output_type": "stream",
     "text": [
      "Line skipped (delimiter missing): Question: Who is the Leader of the Opposition in the Lok Sabha (Lower House of Parliament) in India?\n",
      "                                        question                answer\n",
      "0       Question: What is the capital of France?                Paris.\n",
      "1        Question: Who wrote “Romeo and Juliet”?  William Shakespeare.\n",
      "2  Question: What is the largest ocean on Earth?        Pacific Ocean.\n",
      "3  Question: What is the tallest mammal on land?              Giraffe.\n",
      "4           Question: Who painted the Mona Lisa?    Leonardo da Vinci.\n",
      "Predictions: ['Narendra Modi.']\n"
     ]
    }
   ],
   "source": [
    "import pandas as pd\n",
    "from sklearn.feature_extraction.text import CountVectorizer\n",
    "from sklearn.naive_bayes import MultinomialNB\n",
    "from sklearn.pipeline import Pipeline\n",
    "import joblib\n",
    "\n",
    "\n",
    "data = []\n",
    "\n",
    "with open('data.txt', 'r', encoding='utf-8') as file:\n",
    "    for line in file:\n",
    "        line = line.strip()\n",
    "        if line:\n",
    "            if ' Answer: ' in line:\n",
    "                # Split the line into question and answer\n",
    "                question, answer = line.split(' Answer: ', 1)\n",
    "                data.append({'question': question, 'answer': answer})\n",
    "            else:\n",
    "                print(f\"Line skipped (delimiter missing): {line}\")\n",
    "\n",
    "\n",
    "df = pd.DataFrame(data)\n",
    "print(df.head())\n",
    "df.to_csv('questions_and_answers.csv', index=False)\n",
    "model = Pipeline([\n",
    "    ('vect', CountVectorizer()),\n",
    "    ('clf', MultinomialNB())\n",
    "])\n",
    "model.fit(df['question'], df['answer'])\n",
    "joblib.dump(model, 'qa_retrieval_model.pkl')\n",
    "\n",
    "import joblib\n",
    "model = joblib.load('qa_retrieval_model.pkl')\n",
    "new_questions = [\"Prime Minister\"]\n",
    "predictions = model.predict(new_questions)\n",
    "print(\"Predictions:\", predictions)\n",
    "\n"
   ]
  },
  {
   "cell_type": "code",
   "execution_count": null,
   "id": "1c8d70ef-6fd2-48a0-b6ad-8ccf79971c00",
   "metadata": {},
   "outputs": [],
   "source": [
    "\n",
    "\n"
   ]
  },
  {
   "cell_type": "code",
   "execution_count": null,
   "id": "cb279b25-b4af-44e9-b99d-d81c888665fc",
   "metadata": {},
   "outputs": [],
   "source": []
  }
 ],
 "metadata": {
  "kernelspec": {
   "display_name": "Python 3 (ipykernel)",
   "language": "python",
   "name": "python3"
  },
  "language_info": {
   "codemirror_mode": {
    "name": "ipython",
    "version": 3
   },
   "file_extension": ".py",
   "mimetype": "text/x-python",
   "name": "python",
   "nbconvert_exporter": "python",
   "pygments_lexer": "ipython3",
   "version": "3.11.7"
  }
 },
 "nbformat": 4,
 "nbformat_minor": 5
}
